{
 "cells": [
  {
   "cell_type": "code",
   "execution_count": 9,
   "metadata": {},
   "outputs": [],
   "source": [
    "#Import the relevant libraries\n",
    "import pandas as pd\n",
    "import matplotlib.pyplot as plt"
   ]
  },
  {
   "cell_type": "code",
   "execution_count": 10,
   "metadata": {},
   "outputs": [
    {
     "data": {
      "text/html": [
       "<div>\n",
       "<style scoped>\n",
       "    .dataframe tbody tr th:only-of-type {\n",
       "        vertical-align: middle;\n",
       "    }\n",
       "\n",
       "    .dataframe tbody tr th {\n",
       "        vertical-align: top;\n",
       "    }\n",
       "\n",
       "    .dataframe thead th {\n",
       "        text-align: right;\n",
       "    }\n",
       "</style>\n",
       "<table border=\"1\" class=\"dataframe\">\n",
       "  <thead>\n",
       "    <tr style=\"text-align: right;\">\n",
       "      <th></th>\n",
       "      <th>Class</th>\n",
       "      <th>Count</th>\n",
       "    </tr>\n",
       "  </thead>\n",
       "  <tbody>\n",
       "    <tr>\n",
       "      <th>0</th>\n",
       "      <td>&lt;class 'dict'&gt;</td>\n",
       "      <td>NaN</td>\n",
       "    </tr>\n",
       "    <tr>\n",
       "      <th>1</th>\n",
       "      <td>-5 sentiments</td>\n",
       "      <td>653.0</td>\n",
       "    </tr>\n",
       "    <tr>\n",
       "      <th>2</th>\n",
       "      <td>-4 sentiments</td>\n",
       "      <td>3266.0</td>\n",
       "    </tr>\n",
       "    <tr>\n",
       "      <th>3</th>\n",
       "      <td>-3 sentiments</td>\n",
       "      <td>6335.0</td>\n",
       "    </tr>\n",
       "    <tr>\n",
       "      <th>4</th>\n",
       "      <td>-2 sentiments</td>\n",
       "      <td>10574.0</td>\n",
       "    </tr>\n",
       "    <tr>\n",
       "      <th>5</th>\n",
       "      <td>-1 sentiments</td>\n",
       "      <td>13119.0</td>\n",
       "    </tr>\n",
       "    <tr>\n",
       "      <th>6</th>\n",
       "      <td>0 sentiments</td>\n",
       "      <td>0.0</td>\n",
       "    </tr>\n",
       "    <tr>\n",
       "      <th>7</th>\n",
       "      <td>1 sentiments</td>\n",
       "      <td>9914.0</td>\n",
       "    </tr>\n",
       "    <tr>\n",
       "      <th>8</th>\n",
       "      <td>2 sentiments</td>\n",
       "      <td>15767.0</td>\n",
       "    </tr>\n",
       "    <tr>\n",
       "      <th>9</th>\n",
       "      <td>3 sentiments</td>\n",
       "      <td>9364.0</td>\n",
       "    </tr>\n",
       "    <tr>\n",
       "      <th>10</th>\n",
       "      <td>4 sentiments</td>\n",
       "      <td>2077.0</td>\n",
       "    </tr>\n",
       "    <tr>\n",
       "      <th>11</th>\n",
       "      <td>5 sentiments</td>\n",
       "      <td>60.0</td>\n",
       "    </tr>\n",
       "  </tbody>\n",
       "</table>\n",
       "</div>"
      ],
      "text/plain": [
       "             Class    Count\n",
       "0   <class 'dict'>      NaN\n",
       "1    -5 sentiments    653.0\n",
       "2    -4 sentiments   3266.0\n",
       "3    -3 sentiments   6335.0\n",
       "4    -2 sentiments  10574.0\n",
       "5    -1 sentiments  13119.0\n",
       "6     0 sentiments      0.0\n",
       "7     1 sentiments   9914.0\n",
       "8     2 sentiments  15767.0\n",
       "9     3 sentiments   9364.0\n",
       "10    4 sentiments   2077.0\n",
       "11    5 sentiments     60.0"
      ]
     },
     "execution_count": 10,
     "metadata": {},
     "output_type": "execute_result"
    }
   ],
   "source": [
    "#Import the baseline file and label the columns\n",
    "df = pd.read_fwf('baseline.txt', delimiter=\" \", names = ['Class', \"Count\"])\n",
    "df"
   ]
  },
  {
   "cell_type": "code",
   "execution_count": 11,
   "metadata": {},
   "outputs": [
    {
     "data": {
      "text/html": [
       "<div>\n",
       "<style scoped>\n",
       "    .dataframe tbody tr th:only-of-type {\n",
       "        vertical-align: middle;\n",
       "    }\n",
       "\n",
       "    .dataframe tbody tr th {\n",
       "        vertical-align: top;\n",
       "    }\n",
       "\n",
       "    .dataframe thead th {\n",
       "        text-align: right;\n",
       "    }\n",
       "</style>\n",
       "<table border=\"1\" class=\"dataframe\">\n",
       "  <thead>\n",
       "    <tr style=\"text-align: right;\">\n",
       "      <th></th>\n",
       "      <th>Class</th>\n",
       "      <th>Count</th>\n",
       "    </tr>\n",
       "  </thead>\n",
       "  <tbody>\n",
       "    <tr>\n",
       "      <th>1</th>\n",
       "      <td>-5 sentiments</td>\n",
       "      <td>653.0</td>\n",
       "    </tr>\n",
       "    <tr>\n",
       "      <th>2</th>\n",
       "      <td>-4 sentiments</td>\n",
       "      <td>3266.0</td>\n",
       "    </tr>\n",
       "    <tr>\n",
       "      <th>3</th>\n",
       "      <td>-3 sentiments</td>\n",
       "      <td>6335.0</td>\n",
       "    </tr>\n",
       "    <tr>\n",
       "      <th>4</th>\n",
       "      <td>-2 sentiments</td>\n",
       "      <td>10574.0</td>\n",
       "    </tr>\n",
       "    <tr>\n",
       "      <th>5</th>\n",
       "      <td>-1 sentiments</td>\n",
       "      <td>13119.0</td>\n",
       "    </tr>\n",
       "    <tr>\n",
       "      <th>6</th>\n",
       "      <td>0 sentiments</td>\n",
       "      <td>0.0</td>\n",
       "    </tr>\n",
       "    <tr>\n",
       "      <th>7</th>\n",
       "      <td>1 sentiments</td>\n",
       "      <td>9914.0</td>\n",
       "    </tr>\n",
       "    <tr>\n",
       "      <th>8</th>\n",
       "      <td>2 sentiments</td>\n",
       "      <td>15767.0</td>\n",
       "    </tr>\n",
       "    <tr>\n",
       "      <th>9</th>\n",
       "      <td>3 sentiments</td>\n",
       "      <td>9364.0</td>\n",
       "    </tr>\n",
       "    <tr>\n",
       "      <th>10</th>\n",
       "      <td>4 sentiments</td>\n",
       "      <td>2077.0</td>\n",
       "    </tr>\n",
       "    <tr>\n",
       "      <th>11</th>\n",
       "      <td>5 sentiments</td>\n",
       "      <td>60.0</td>\n",
       "    </tr>\n",
       "  </tbody>\n",
       "</table>\n",
       "</div>"
      ],
      "text/plain": [
       "            Class    Count\n",
       "1   -5 sentiments    653.0\n",
       "2   -4 sentiments   3266.0\n",
       "3   -3 sentiments   6335.0\n",
       "4   -2 sentiments  10574.0\n",
       "5   -1 sentiments  13119.0\n",
       "6    0 sentiments      0.0\n",
       "7    1 sentiments   9914.0\n",
       "8    2 sentiments  15767.0\n",
       "9    3 sentiments   9364.0\n",
       "10   4 sentiments   2077.0\n",
       "11   5 sentiments     60.0"
      ]
     },
     "execution_count": 11,
     "metadata": {},
     "output_type": "execute_result"
    }
   ],
   "source": [
    "#remove the column header that we do not need\n",
    "df = df.dropna()\n",
    "df"
   ]
  },
  {
   "cell_type": "code",
   "execution_count": 12,
   "metadata": {},
   "outputs": [
    {
     "data": {
      "text/html": [
       "<div>\n",
       "<style scoped>\n",
       "    .dataframe tbody tr th:only-of-type {\n",
       "        vertical-align: middle;\n",
       "    }\n",
       "\n",
       "    .dataframe tbody tr th {\n",
       "        vertical-align: top;\n",
       "    }\n",
       "\n",
       "    .dataframe thead th {\n",
       "        text-align: right;\n",
       "    }\n",
       "</style>\n",
       "<table border=\"1\" class=\"dataframe\">\n",
       "  <thead>\n",
       "    <tr style=\"text-align: right;\">\n",
       "      <th></th>\n",
       "      <th>Class</th>\n",
       "      <th>Count</th>\n",
       "      <th>Values</th>\n",
       "    </tr>\n",
       "  </thead>\n",
       "  <tbody>\n",
       "    <tr>\n",
       "      <th>1</th>\n",
       "      <td>-5 sentiments</td>\n",
       "      <td>653.0</td>\n",
       "      <td>-5</td>\n",
       "    </tr>\n",
       "    <tr>\n",
       "      <th>2</th>\n",
       "      <td>-4 sentiments</td>\n",
       "      <td>3266.0</td>\n",
       "      <td>-4</td>\n",
       "    </tr>\n",
       "    <tr>\n",
       "      <th>3</th>\n",
       "      <td>-3 sentiments</td>\n",
       "      <td>6335.0</td>\n",
       "      <td>-3</td>\n",
       "    </tr>\n",
       "    <tr>\n",
       "      <th>4</th>\n",
       "      <td>-2 sentiments</td>\n",
       "      <td>10574.0</td>\n",
       "      <td>-2</td>\n",
       "    </tr>\n",
       "    <tr>\n",
       "      <th>5</th>\n",
       "      <td>-1 sentiments</td>\n",
       "      <td>13119.0</td>\n",
       "      <td>-1</td>\n",
       "    </tr>\n",
       "    <tr>\n",
       "      <th>6</th>\n",
       "      <td>0 sentiments</td>\n",
       "      <td>0.0</td>\n",
       "      <td>0</td>\n",
       "    </tr>\n",
       "    <tr>\n",
       "      <th>7</th>\n",
       "      <td>1 sentiments</td>\n",
       "      <td>9914.0</td>\n",
       "      <td>1</td>\n",
       "    </tr>\n",
       "    <tr>\n",
       "      <th>8</th>\n",
       "      <td>2 sentiments</td>\n",
       "      <td>15767.0</td>\n",
       "      <td>2</td>\n",
       "    </tr>\n",
       "    <tr>\n",
       "      <th>9</th>\n",
       "      <td>3 sentiments</td>\n",
       "      <td>9364.0</td>\n",
       "      <td>3</td>\n",
       "    </tr>\n",
       "    <tr>\n",
       "      <th>10</th>\n",
       "      <td>4 sentiments</td>\n",
       "      <td>2077.0</td>\n",
       "      <td>4</td>\n",
       "    </tr>\n",
       "    <tr>\n",
       "      <th>11</th>\n",
       "      <td>5 sentiments</td>\n",
       "      <td>60.0</td>\n",
       "      <td>5</td>\n",
       "    </tr>\n",
       "  </tbody>\n",
       "</table>\n",
       "</div>"
      ],
      "text/plain": [
       "            Class    Count  Values\n",
       "1   -5 sentiments    653.0      -5\n",
       "2   -4 sentiments   3266.0      -4\n",
       "3   -3 sentiments   6335.0      -3\n",
       "4   -2 sentiments  10574.0      -2\n",
       "5   -1 sentiments  13119.0      -1\n",
       "6    0 sentiments      0.0       0\n",
       "7    1 sentiments   9914.0       1\n",
       "8    2 sentiments  15767.0       2\n",
       "9    3 sentiments   9364.0       3\n",
       "10   4 sentiments   2077.0       4\n",
       "11   5 sentiments     60.0       5"
      ]
     },
     "execution_count": 12,
     "metadata": {},
     "output_type": "execute_result"
    }
   ],
   "source": [
    "# add a new column with the sentiment values\n",
    "df = df.copy()\n",
    "df['Values'] = range(-5,6)\n",
    "df"
   ]
  },
  {
   "cell_type": "code",
   "execution_count": 13,
   "metadata": {},
   "outputs": [
    {
     "data": {
      "text/plain": [
       "71129.0"
      ]
     },
     "execution_count": 13,
     "metadata": {},
     "output_type": "execute_result"
    }
   ],
   "source": [
    "#Find the total number of sentiment counts\n",
    "df['Count'].sum()"
   ]
  },
  {
   "cell_type": "code",
   "execution_count": 15,
   "metadata": {},
   "outputs": [
    {
     "data": {
      "text/html": [
       "<div>\n",
       "<style scoped>\n",
       "    .dataframe tbody tr th:only-of-type {\n",
       "        vertical-align: middle;\n",
       "    }\n",
       "\n",
       "    .dataframe tbody tr th {\n",
       "        vertical-align: top;\n",
       "    }\n",
       "\n",
       "    .dataframe thead th {\n",
       "        text-align: right;\n",
       "    }\n",
       "</style>\n",
       "<table border=\"1\" class=\"dataframe\">\n",
       "  <thead>\n",
       "    <tr style=\"text-align: right;\">\n",
       "      <th></th>\n",
       "      <th>Class</th>\n",
       "      <th>Count</th>\n",
       "      <th>Values</th>\n",
       "      <th>Score</th>\n",
       "      <th>Normalized Count</th>\n",
       "      <th>Normalized Score</th>\n",
       "    </tr>\n",
       "  </thead>\n",
       "  <tbody>\n",
       "    <tr>\n",
       "      <th>1</th>\n",
       "      <td>-5 sentiments</td>\n",
       "      <td>653.0</td>\n",
       "      <td>-5</td>\n",
       "      <td>-3265.0</td>\n",
       "      <td>0.009181</td>\n",
       "      <td>0.045903</td>\n",
       "    </tr>\n",
       "    <tr>\n",
       "      <th>2</th>\n",
       "      <td>-4 sentiments</td>\n",
       "      <td>3266.0</td>\n",
       "      <td>-4</td>\n",
       "      <td>-13064.0</td>\n",
       "      <td>0.045917</td>\n",
       "      <td>0.183666</td>\n",
       "    </tr>\n",
       "    <tr>\n",
       "      <th>3</th>\n",
       "      <td>-3 sentiments</td>\n",
       "      <td>6335.0</td>\n",
       "      <td>-3</td>\n",
       "      <td>-19005.0</td>\n",
       "      <td>0.089064</td>\n",
       "      <td>0.267191</td>\n",
       "    </tr>\n",
       "    <tr>\n",
       "      <th>4</th>\n",
       "      <td>-2 sentiments</td>\n",
       "      <td>10574.0</td>\n",
       "      <td>-2</td>\n",
       "      <td>-21148.0</td>\n",
       "      <td>0.148659</td>\n",
       "      <td>0.297319</td>\n",
       "    </tr>\n",
       "    <tr>\n",
       "      <th>5</th>\n",
       "      <td>-1 sentiments</td>\n",
       "      <td>13119.0</td>\n",
       "      <td>-1</td>\n",
       "      <td>-13119.0</td>\n",
       "      <td>0.184440</td>\n",
       "      <td>0.184440</td>\n",
       "    </tr>\n",
       "    <tr>\n",
       "      <th>6</th>\n",
       "      <td>0 sentiments</td>\n",
       "      <td>0.0</td>\n",
       "      <td>0</td>\n",
       "      <td>0.0</td>\n",
       "      <td>0.000000</td>\n",
       "      <td>0.000000</td>\n",
       "    </tr>\n",
       "    <tr>\n",
       "      <th>7</th>\n",
       "      <td>1 sentiments</td>\n",
       "      <td>9914.0</td>\n",
       "      <td>1</td>\n",
       "      <td>9914.0</td>\n",
       "      <td>0.139381</td>\n",
       "      <td>0.139381</td>\n",
       "    </tr>\n",
       "    <tr>\n",
       "      <th>8</th>\n",
       "      <td>2 sentiments</td>\n",
       "      <td>15767.0</td>\n",
       "      <td>2</td>\n",
       "      <td>31534.0</td>\n",
       "      <td>0.221668</td>\n",
       "      <td>0.443335</td>\n",
       "    </tr>\n",
       "    <tr>\n",
       "      <th>9</th>\n",
       "      <td>3 sentiments</td>\n",
       "      <td>9364.0</td>\n",
       "      <td>3</td>\n",
       "      <td>28092.0</td>\n",
       "      <td>0.131648</td>\n",
       "      <td>0.394944</td>\n",
       "    </tr>\n",
       "    <tr>\n",
       "      <th>10</th>\n",
       "      <td>4 sentiments</td>\n",
       "      <td>2077.0</td>\n",
       "      <td>4</td>\n",
       "      <td>8308.0</td>\n",
       "      <td>0.029200</td>\n",
       "      <td>0.116802</td>\n",
       "    </tr>\n",
       "    <tr>\n",
       "      <th>11</th>\n",
       "      <td>5 sentiments</td>\n",
       "      <td>60.0</td>\n",
       "      <td>5</td>\n",
       "      <td>300.0</td>\n",
       "      <td>0.000844</td>\n",
       "      <td>0.004218</td>\n",
       "    </tr>\n",
       "  </tbody>\n",
       "</table>\n",
       "</div>"
      ],
      "text/plain": [
       "            Class    Count  Values    Score  Normalized Count  \\\n",
       "1   -5 sentiments    653.0      -5  -3265.0          0.009181   \n",
       "2   -4 sentiments   3266.0      -4 -13064.0          0.045917   \n",
       "3   -3 sentiments   6335.0      -3 -19005.0          0.089064   \n",
       "4   -2 sentiments  10574.0      -2 -21148.0          0.148659   \n",
       "5   -1 sentiments  13119.0      -1 -13119.0          0.184440   \n",
       "6    0 sentiments      0.0       0      0.0          0.000000   \n",
       "7    1 sentiments   9914.0       1   9914.0          0.139381   \n",
       "8    2 sentiments  15767.0       2  31534.0          0.221668   \n",
       "9    3 sentiments   9364.0       3  28092.0          0.131648   \n",
       "10   4 sentiments   2077.0       4   8308.0          0.029200   \n",
       "11   5 sentiments     60.0       5    300.0          0.000844   \n",
       "\n",
       "    Normalized Score  \n",
       "1           0.045903  \n",
       "2           0.183666  \n",
       "3           0.267191  \n",
       "4           0.297319  \n",
       "5           0.184440  \n",
       "6           0.000000  \n",
       "7           0.139381  \n",
       "8           0.443335  \n",
       "9           0.394944  \n",
       "10          0.116802  \n",
       "11          0.004218  "
      ]
     },
     "execution_count": 15,
     "metadata": {},
     "output_type": "execute_result"
    }
   ],
   "source": [
    "# Multiply the count by value to get the score\n",
    "df['Score'] = df['Count']*df['Values']\n",
    "#Normalize the count value and score value to total counts\n",
    "df['Normalized Count']=df['Count']/df['Count'].sum()\n",
    "df['Normalized Score']=abs(df['Normalized Count']*df['Values'])\n",
    "df"
   ]
  },
  {
   "cell_type": "code",
   "execution_count": 16,
   "metadata": {},
   "outputs": [
    {
     "data": {
      "text/plain": [
       "0.12016195925712438"
      ]
     },
     "execution_count": 16,
     "metadata": {},
     "output_type": "execute_result"
    }
   ],
   "source": [
    "#Average sentiment value\n",
    "df['Score'].sum()/df['Count'].sum()"
   ]
  },
  {
   "cell_type": "code",
   "execution_count": 23,
   "metadata": {},
   "outputs": [
    {
     "data": {
      "image/png": "[encoded data removed]",
      "text/plain": [
       "<Figure size 432x288 with 1 Axes>"
      ]
     },
     "metadata": {},
     "output_type": "display_data"
    }
   ],
   "source": [
    "#Make a bar plot of the baseline tweet sentiment scores\n",
    "plt.bar(df['Values'],abs(df['Score']))\n",
    "plt.xlabel('Sentiment Value')\n",
    "plt.ylabel('Tweet Score')\n",
    "plt.title('Baseline Tweet Sentiment Scores')\n",
    "plt.show()"
   ]
  },
  {
   "cell_type": "code",
   "execution_count": 25,
   "metadata": {},
   "outputs": [
    {
     "data": {
      "image/png": "[encoded data removed]",
      "text/plain": [
       "<Figure size 432x288 with 1 Axes>"
      ]
     },
     "metadata": {},
     "output_type": "display_data"
    }
   ],
   "source": [
    "#Make a bar plot of the baseline tweet sentiment normalized scores\n",
    "plt.bar(df['Values'],df['Normalized Score'])\n",
    "plt.xlabel('Sentiment Value')\n",
    "plt.ylabel('Normalized Tweet Score')\n",
    "plt.title('Baseline Tweet Sentiment Normalized Score')\n",
    "plt.show()"
   ]
  },
  {
   "cell_type": "code",
   "execution_count": 24,
   "metadata": {},
   "outputs": [
    {
     "data": {
      "image/png": "[encoded data removed]",
      "text/plain": [
       "<Figure size 432x288 with 1 Axes>"
      ]
     },
     "metadata": {},
     "output_type": "display_data"
    }
   ],
   "source": [
    "#Bar plot of the baseline tweet sentiment count\n",
    "plt.bar(df['Values'],df['Count'])\n",
    "plt.xlabel('Sentiment Value')\n",
    "plt.ylabel('Tweet Count')\n",
    "plt.title('Baseline Tweet Sentiment Count')\n",
    "plt.show()"
   ]
  },
  {
   "cell_type": "code",
   "execution_count": 26,
   "metadata": {},
   "outputs": [
    {
     "data": {
      "image/png": "[encoded data removed]",
      "text/plain": [
       "<Figure size 432x288 with 1 Axes>"
      ]
     },
     "metadata": {},
     "output_type": "display_data"
    }
   ],
   "source": [
    "#Bar plot of the baseline tweet sentiment normalized count\n",
    "plt.bar(df['Values'],df['Normalized Count'])\n",
    "plt.xlabel('Sentiment Value')\n",
    "plt.ylabel('Tweet Normalized Count')\n",
    "plt.title('Baseline Tweet Sentiment Normalized Count')\n",
    "plt.show()"
   ]
  },
  {
   "cell_type": "code",
   "execution_count": 19,
   "metadata": {},
   "outputs": [],
   "source": [
    "# Your turn. \n",
    "# Import the search specific tweets and make the same columns as we did for the baseline tweets.\n"
   ]
  },
  {
   "cell_type": "code",
   "execution_count": 20,
   "metadata": {},
   "outputs": [],
   "source": [
    "# Find the 'total count' AND 'average sentiment value' of your specific tweets\n"
   ]
  },
  {
   "cell_type": "code",
   "execution_count": 21,
   "metadata": {},
   "outputs": [],
   "source": [
    "# Make at least two graphs representing your specific tweet sentiment analysis.  They can be similar to the plots above\n",
    "# but they can be different too. Makre sure you add titles and have labeled axis.\n"
   ]
  },
  {
   "cell_type": "code",
   "execution_count": 22,
   "metadata": {},
   "outputs": [],
   "source": [
    "# Try making at least one graph that shows the difference in baseline tweet counts or scores to your tweet specific counts or scores.\n",
    "# Remember, Google (LMGTFY) is a great resource."
   ]
  },
  {
   "cell_type": "markdown",
   "metadata": {},
   "source": [
    "Write a brief conclusion summarizing your results. Here are some questions to help you organize your ideas: How did you deal with uneven tweet counts? What are some assumptions in the AFINN-111.txt file and the sentiment ranking of words? How are the tweets weighted ie. are 10 -5 tweets as bad as 50 -1 tweets?  What was the average sentiment value of twitter and your search specific tweets? Et cetera, et cetera, et cetera.  Save this jupyter-notebook with your name in the title and post it to the Project - Sentiment Analysis using Python under the Assignments tab in worldclass."
   ]
  },
  {
   "cell_type": "code",
   "execution_count": null,
   "metadata": {},
   "outputs": [],
   "source": []
  }
 ],
 "metadata": {
  "kernelspec": {
   "display_name": "Python 3",
   "language": "python",
   "name": "python3"
  },
  "language_info": {
   "codemirror_mode": {
    "name": "ipython",
    "version": 3
   },
   "file_extension": ".py",
   "mimetype": "text/x-python",
   "name": "python",
   "nbconvert_exporter": "python",
   "pygments_lexer": "ipython3",
   "version": "3.7.4"
  }
 },
 "nbformat": 4,
 "nbformat_minor": 2
}
